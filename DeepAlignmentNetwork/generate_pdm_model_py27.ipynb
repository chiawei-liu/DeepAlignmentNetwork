{
 "cells": [
  {
   "cell_type": "code",
   "execution_count": 5,
   "metadata": {},
   "outputs": [
    {
     "name": "stdout",
     "output_type": "stream",
     "text": [
      "Found 1151 assets, index the returned LazyList to import.\n",
      "done\n"
     ]
    }
   ],
   "source": [
    "%matplotlib inline\n",
    "import menpo.io as mio\n",
    "from menpo.shape import PointCloud\n",
    "from menpofit.modelinstance import OrthoPDM\n",
    "import numpy as np\n",
    "import pickle\n",
    "\n",
    "left_brow_inds = np.arange(47, 52)\n",
    "right_brow_inds = np.arange(52, 57)\n",
    "left_eye_inds = np.arange(27, 37) # np.append(np.arange(27, 37), 57)\n",
    "right_eye_inds = np.arange(37, 47) # np.append(np.arange(37, 47), 58)\n",
    "jaw_line_inds = np.arange(0, 17)\n",
    "mouth_inds = np.arange(17, 27)\n",
    "\n",
    "training_shapes = []\n",
    "r_eyebrow_train_shapes = []\n",
    "l_eyebrow_train_shapes = []\n",
    "r_eye_train_shapes = []\n",
    "l_eye_train_shapes = []\n",
    "chin_train_shapes = []\n",
    "mouth_train_shapes = []\n",
    "temp = mio.import_landmark_files('../data/images/Manga_Cropped_60_Points_v2/train/*.pts', verbose=True)\n",
    "for l in temp:\n",
    "    pts = l\n",
    "    training_shapes.append(pts)\n",
    "    r_eyebrow_train_shapes.append(PointCloud(pts.points[right_brow_inds]))\n",
    "    l_eyebrow_train_shapes.append(PointCloud(pts.points[left_brow_inds]))\n",
    "    r_eye_train_shapes.append(PointCloud(pts.points[right_eye_inds]))\n",
    "    l_eye_train_shapes.append(PointCloud(pts.points[left_eye_inds]))\n",
    "    chin_train_shapes.append(PointCloud(pts.points[jaw_line_inds]))\n",
    "    mouth_train_shapes.append(PointCloud(pts.points[mouth_inds]))\n",
    "\n",
    "#r_eyebrow_train_shapes[0]\n",
    "#l_eyebrow_train_shapes[0]\n",
    "#r_eye_train_shapes[0]\n",
    "#l_eye_train_shapes[0]\n",
    "#chin_train_shapes[0]\n",
    "#mouth_train_shapes[0]\n",
    "#pt = PointCloud(l_eyebrow_train_shapes)\n",
    "#pt.view()\n",
    "\n",
    "r_eyebrow_shape_model = OrthoPDM(r_eyebrow_train_shapes, max_n_components=None)\n",
    "l_eyebrow_shape_model = OrthoPDM(l_eyebrow_train_shapes, max_n_components=None)\n",
    "r_eye_shape_model = OrthoPDM(r_eye_train_shapes, max_n_components=None)\n",
    "l_eye_shape_model = OrthoPDM(l_eye_train_shapes, max_n_components=None)\n",
    "chin_shape_model = OrthoPDM(chin_train_shapes, max_n_components=None)\n",
    "mouth_shape_model = OrthoPDM(mouth_train_shapes, max_n_components=None)\n",
    "all_shape_model = OrthoPDM(training_shapes, max_n_components=None)\n",
    "'''\n",
    "r_eyebrow_shape_model.n_active_components = 0.9\n",
    "l_eyebrow_shape_model.n_active_components = 0.9\n",
    "r_eye_shape_model.n_active_components = 0.9\n",
    "l_eye_shape_model.n_active_components = 0.9\n",
    "chin_shape_model.n_active_components = 0.9\n",
    "mouth_shape_model.n_active_components = 0.9\n",
    "'''\n",
    "\n",
    "r_brow_pc_list = [2, 3, 4, 5, 6] # max 6\n",
    "l_brow_pc_list = [2, 3, 4, 5, 6] # max 6\n",
    "r_eye_pc_list = [2, 3, 4, 6, 8, 12, 16] # max 8                     [2, 3, 4, 6, 8] -> 16\n",
    "l_eye_pc_list = [2, 3, 4, 6, 8, 12, 16] # max 8                    -> 16\n",
    "chin_pc_list = [5, 7, 10, 16, 20] # max 30\n",
    "mouth_pc_list = [2, 3, 4, 6, 8, 12, 16] # max 36                   -> 16\n",
    "all_pc_list = [30]\n",
    "\n",
    "parts = ['r_brow', 'l_brow', 'r_eye', 'l_eye', 'chin', 'mouth', 'all']\n",
    "part_pc_lists = [r_brow_pc_list, l_brow_pc_list, r_eye_pc_list, l_eye_pc_list,\n",
    "                chin_pc_list, mouth_pc_list, all_pc_list]\n",
    "part_models = [r_eyebrow_shape_model, l_eyebrow_shape_model, r_eye_shape_model, \n",
    "               l_eye_shape_model, chin_shape_model, mouth_shape_model, all_shape_model]\n",
    "\n",
    "for i, part in enumerate(parts):\n",
    "    part_pc_list = part_pc_lists[i]\n",
    "    part_model = part_models[i]\n",
    "    for j in range(len(part_pc_list)):\n",
    "        part_model.n_active_components = part_pc_list[j]\n",
    "        filehandler = open('../data/pdm_models/' + part + '_' + str(part_pc_list[j]), \"wb\")\n",
    "        pickle.dump(part_model, filehandler)\n",
    "        filehandler.close()\n",
    "'''      \n",
    "print(r_eyebrow_shape_model)\n",
    "print(l_eyebrow_shape_model)\n",
    "print(r_eye_shape_model)\n",
    "print(l_eye_shape_model)\n",
    "print(chin_shape_model)\n",
    "print(mouth_shape_model)\n",
    "'''\n",
    "\n",
    "print('done')"
   ]
  },
  {
   "cell_type": "code",
   "execution_count": null,
   "metadata": {},
   "outputs": [],
   "source": [
    "def pdm_correct(init_shape, pdm_model, part_inds=None):\n",
    "    \"\"\" correct landmarks using pdm (point distribution model)\"\"\"\n",
    "    pdm_model.set_target(PointCloud(init_shape))\n",
    "    if part_inds is None:\n",
    "        return pdm_model.target.points\n",
    "    else:\n",
    "        return pdm_model.target.points[part_inds]"
   ]
  },
  {
   "cell_type": "code",
   "execution_count": null,
   "metadata": {},
   "outputs": [],
   "source": [
    "new_lms = np.zeros((60, 2))\n",
    "shape = mio.import_landmark_file('../data/images/Manga_Cropped_60_Points_v2/train/MeteoSanStrikeDesu_032_face00_x394y69w257h266.pts')\n",
    "#shape = shape['PTS']\n",
    "lms_init = shape.points\n",
    "parts = ['l_brow', 'r_brow', 'l_eye', 'r_eye', 'mouth', 'jaw']\n",
    "part_inds_opt = [left_brow_inds, right_brow_inds, left_eye_inds, right_eye_inds, mouth_inds, jaw_line_inds]\n",
    "models = [l_eyebrow_shape_model, r_eyebrow_shape_model, l_eye_shape_model, r_eye_shape_model, mouth_shape_model, chin_shape_model]\n",
    "\n",
    "for i, part in enumerate(parts):\n",
    "    part_inds = part_inds_opt[i]\n",
    "    pdm_temp = models[i]\n",
    "    #pc = pc_opt[i]\n",
    "    '''\n",
    "    temp_model = os.path.join(models_dir, train_type + '_' + part + '_' + str(pc))\n",
    "    filehandler = open(temp_model, \"rb\")\n",
    "    try:\n",
    "        pdm_temp = pickle.load(filehandler)\n",
    "    except UnicodeDecodeError:\n",
    "        pdm_temp = pickle.load(filehandler, fix_imports=True, encoding=\"latin1\")\n",
    "    filehandler.close()\n",
    "    '''\n",
    "\n",
    "    #if patches is None:\n",
    "    part_lms_pdm = pdm_correct(lms_init[part_inds], pdm_temp)\n",
    "    #else:\n",
    "        #part_lms_pdm = w_pdm_correct(\n",
    "            #init_shape=lms_init[part_inds], patches=patches, pdm_model=pdm_temp, part_inds=part_inds)\n",
    "\n",
    "    new_lms[part_inds] = part_lms_pdm\n",
    "new_lms[59] = lms_init[59]\n",
    "new_lms\n",
    "\n",
    "new_shape = PointCloud(new_lms)\n",
    "print(new_shape.points)"
   ]
  },
  {
   "cell_type": "code",
   "execution_count": 10,
   "metadata": {},
   "outputs": [
    {
     "data": {
      "text/plain": [
       "array([  3.00173302e-15,   3.75221035e-15,   3.74528154e-15,\n",
       "         5.50079693e-15,  -5.19941821e-15,  -2.01153290e-15,\n",
       "        -1.04121696e-15,  -8.65542521e-15,  -1.04926013e-16,\n",
       "        -2.41269242e-15,   1.36947366e-15,   3.65449618e-15,\n",
       "        -1.15486236e-15,  -1.05230471e-15,  -5.07598729e-15,\n",
       "         3.61036173e-15,  -2.25498159e-15,  -4.27173747e-15,\n",
       "        -2.95888465e-15,  -5.35056150e-15])"
      ]
     },
     "execution_count": 10,
     "metadata": {},
     "output_type": "execute_result"
    }
   ],
   "source": [
    "\n",
    "filehandler = open('../data/pdm_models/chin_20', \"rb\")\n",
    "model = pickle.load(filehandler)\n",
    "model.weights"
   ]
  },
  {
   "cell_type": "code",
   "execution_count": null,
   "metadata": {},
   "outputs": [],
   "source": []
  }
 ],
 "metadata": {
  "kernelspec": {
   "display_name": "Python 2",
   "language": "python",
   "name": "python2"
  },
  "language_info": {
   "codemirror_mode": {
    "name": "ipython",
    "version": 2
   },
   "file_extension": ".py",
   "mimetype": "text/x-python",
   "name": "python",
   "nbconvert_exporter": "python",
   "pygments_lexer": "ipython2",
   "version": "2.7.17"
  }
 },
 "nbformat": 4,
 "nbformat_minor": 2
}
